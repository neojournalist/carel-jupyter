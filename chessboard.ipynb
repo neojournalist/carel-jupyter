{
 "cells": [
  {
   "cell_type": "code",
   "execution_count": 46,
   "metadata": {},
   "outputs": [
    {
     "name": "stdout",
     "output_type": "stream",
     "text": [
      "',(0):>   1      0      0      0      0   \n",
      "   2      0      0      0      0      0   \n",
      "   0      0      0      0      0      0   \n",
      "   0      0      1      0      0      0   \n"
     ]
    }
   ],
   "source": [
    "from carel import Carel\n",
    "from carelgrid import CarelGrid\n",
    "from gamecanvas import GameCanvas\n",
    "\n",
    "field = [[0 for x in range(6)] for y in range(4)]\n",
    "\n",
    "field[0][1] = 1\n",
    "field[1][0] = 2\n",
    "field[3][2] = 1\n",
    "\n",
    "grid = CarelGrid(field)\n",
    "canvas = GameCanvas(speed=1);\n",
    "carel = Carel(canvas, grid);\n",
    "\n",
    "def move():\n",
    "    carel.move()\n",
    "def turn_left():\n",
    "    carel.turn_left()\n",
    "def drop_beeper():\n",
    "    carel.drop_beeper()\n",
    "def collect_beeper():\n",
    "    carel.collect_beeper()\n",
    "def is_beeper():\n",
    "    return carel.is_beeper()\n",
    "def is_front_clear():\n",
    "    return carel.is_front_clear()\n",
    "def show():\n",
    "    carel.show()"
   ]
  },
  {
   "cell_type": "code",
   "execution_count": 47,
   "metadata": {},
   "outputs": [
    {
     "ename": "SyntaxError",
     "evalue": "invalid syntax (<ipython-input-47-1f6cae98d8fa>, line 5)",
     "output_type": "error",
     "traceback": [
      "\u001b[0;36m  File \u001b[0;32m\"<ipython-input-47-1f6cae98d8fa>\"\u001b[0;36m, line \u001b[0;32m5\u001b[0m\n\u001b[0;31m    def fill_line_0\u001b[0m\n\u001b[0m                   ^\u001b[0m\n\u001b[0;31mSyntaxError\u001b[0m\u001b[0;31m:\u001b[0m invalid syntax\n"
     ]
    }
   ],
   "source": [
    "# New methods go here\n",
    "\n",
    "# Example\n",
    "\n",
    "def fill_line_0\n",
    "    while True:\n",
    "        clean_cell\n",
    "        if is fro_clear():\n",
    "            move\n",
    "            clean_cell\n",
    "            drop_beeper\n",
    "            if front clear\n",
    "            move\n",
    "            else\n",
    "            break\n",
    "\n",
    "\n",
    "\n",
    "def fill_line_0\n",
    "    if is_beeper()\n",
    "       turn_right\n",
    "        if_front_clear\n",
    "        move()\n",
    "        fill_line_0\n",
    "        else\n",
    "        turn right\n",
    "        front clear\n",
    "        move\n",
    "        fill line_1\n",
    "\n",
    "def fill_chess_field():\n",
    "    while True:\n",
    "        fill_chess_line()\n",
    "        turn_right()\n",
    "        if is_front_clear():\n",
    "            move()\n",
    "        else:\n",
    "            break\n",
    "        turn_right()\n",
    "        fill_chess_line()\n",
    "        turn_left()\n",
    "        if is_front_clear():\n",
    "            move()\n",
    "            turn_left()\n",
    "        else:\n",
    "            break\n",
    "                \n",
    "def fill_chess_line():\n",
    "    while True:\n",
    "        drop_beeper()\n",
    "        if is_front_clear():\n",
    "            move()\n",
    "        if is_front_clear():\n",
    "            move()\n",
    "        else:\n",
    "            break\n",
    "\n",
    "def clear_field():\n",
    "    while True:\n",
    "        clear_line()\n",
    "        turn_right()\n",
    "        if is_front_clear():\n",
    "            move()\n",
    "            turn_right()\n",
    "            clear_line()\n",
    "        else:\n",
    "            break\n",
    "        turn_left()\n",
    "        if is_front_clear():\n",
    "            move()\n",
    "            turn_left()\n",
    "            clear_line()\n",
    "        else:\n",
    "            break\n",
    "            \n",
    "def clean_cell():\n",
    "    while is_beeper():\n",
    "        collect_beeper()\n",
    "        \n",
    "def clear_line():\n",
    "    while True:\n",
    "        clean_cell()\n",
    "        if is_front_clear():\n",
    "            move()\n",
    "        else:\n",
    "            break\n",
    "            \n",
    "def go_back():\n",
    "    turn_right()\n",
    "    move()\n",
    "    move()\n",
    "    move()\n",
    "    turn_right()\n",
    "            \n",
    "def turn_right():\n",
    "    turn_left()\n",
    "    turn_left()\n",
    "    turn_left()\n",
    "\n",
    "def turn_around():\n",
    "    turn_left()\n",
    "    turn_left()"
   ]
  },
  {
   "cell_type": "code",
   "execution_count": 45,
   "metadata": {},
   "outputs": [
    {
     "ename": "NameError",
     "evalue": "name 'go_back' is not defined",
     "output_type": "error",
     "traceback": [
      "\u001b[0;31m---------------------------------------------------------------------------\u001b[0m",
      "\u001b[0;31mNameError\u001b[0m                                 Traceback (most recent call last)",
      "\u001b[0;32m<ipython-input-45-5e46b1506914>\u001b[0m in \u001b[0;36m<module>\u001b[0;34m()\u001b[0m\n\u001b[1;32m      1\u001b[0m \u001b[0;31m# Make a chessboard\u001b[0m\u001b[0;34m\u001b[0m\u001b[0;34m\u001b[0m\u001b[0m\n\u001b[1;32m      2\u001b[0m \u001b[0;34m\u001b[0m\u001b[0m\n\u001b[0;32m----> 3\u001b[0;31m \u001b[0mgo_back\u001b[0m\u001b[0;34m(\u001b[0m\u001b[0;34m)\u001b[0m\u001b[0;34m\u001b[0m\u001b[0m\n\u001b[0m\u001b[1;32m      4\u001b[0m \u001b[0;34m\u001b[0m\u001b[0m\n",
      "\u001b[0;31mNameError\u001b[0m: name 'go_back' is not defined"
     ]
    }
   ],
   "source": [
    "# Make a chessboard\n",
    "clear_field()\n",
    "go_back()\n",
    "\n"
   ]
  },
  {
   "cell_type": "code",
   "execution_count": null,
   "metadata": {
    "collapsed": true
   },
   "outputs": [],
   "source": []
  }
 ],
 "metadata": {
  "kernelspec": {
   "display_name": "Python 3",
   "language": "python",
   "name": "python3"
  },
  "language_info": {
   "codemirror_mode": {
    "name": "ipython",
    "version": 3
   },
   "file_extension": ".py",
   "mimetype": "text/x-python",
   "name": "python",
   "nbconvert_exporter": "python",
   "pygments_lexer": "ipython3",
   "version": "3.6.2"
  }
 },
 "nbformat": 4,
 "nbformat_minor": 2
}
